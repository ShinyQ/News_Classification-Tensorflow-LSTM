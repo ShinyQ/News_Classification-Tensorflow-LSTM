{
  "nbformat": 4,
  "nbformat_minor": 0,
  "metadata": {
    "colab": {
      "name": "News_Classification-Tensorflow_LTSM.ipynb",
      "provenance": [],
      "collapsed_sections": [],
      "authorship_tag": "ABX9TyOlQhNr+Nyx1ryP6++Sc4La",
      "include_colab_link": true
    },
    "kernelspec": {
      "name": "python3",
      "display_name": "Python 3"
    },
    "language_info": {
      "name": "python"
    }
  },
  "cells": [
    {
      "cell_type": "markdown",
      "metadata": {
        "id": "view-in-github",
        "colab_type": "text"
      },
      "source": [
        "<a href=\"https://colab.research.google.com/github/ShinyQ/News_Classification-Tensorflow-LSTM/blob/main/News_Classification_Tensorflow_LTSM.ipynb\" target=\"_parent\"><img src=\"https://colab.research.google.com/assets/colab-badge.svg\" alt=\"Open In Colab\"/></a>"
      ]
    },
    {
      "cell_type": "markdown",
      "metadata": {
        "id": "cdPivFWawYMD"
      },
      "source": [
        "# **News Classification**\n",
        "\n",
        "Nama : Kurniadi Ahmad Wijaya\n",
        "\n",
        "Email: kurniadiahmadwijaya@gmail.com "
      ]
    },
    {
      "cell_type": "code",
      "metadata": {
        "colab": {
          "base_uri": "https://localhost:8080/"
        },
        "id": "ZT91MTo44-mF",
        "outputId": "4d4e491d-f4e4-4bc4-d432-596c2e94e9f3"
      },
      "source": [
        "!pip install tweet-preprocessor\n",
        "!pip install nltk"
      ],
      "execution_count": null,
      "outputs": [
        {
          "output_type": "stream",
          "text": [
            "Requirement already satisfied: tweet-preprocessor in /usr/local/lib/python3.7/dist-packages (0.6.0)\n",
            "Requirement already satisfied: nltk in /usr/local/lib/python3.7/dist-packages (3.2.5)\n",
            "Requirement already satisfied: six in /usr/local/lib/python3.7/dist-packages (from nltk) (1.15.0)\n"
          ],
          "name": "stdout"
        }
      ]
    },
    {
      "cell_type": "code",
      "metadata": {
        "id": "aKyXk7lbmCSr"
      },
      "source": [
        "import pandas as pd\n",
        "import numpy as np\n",
        "import tensorflow as tf\n",
        "import preprocessor as p \n",
        "import matplotlib.pyplot as plt\n",
        "\n",
        "from tensorflow.keras.preprocessing.sequence import pad_sequences\n",
        "from tensorflow.keras.preprocessing.text import Tokenizer\n",
        "from tensorflow.keras.callbacks import EarlyStopping\n",
        "from sklearn.model_selection import train_test_split\n",
        "from nltk.stem import PorterStemmer"
      ],
      "execution_count": null,
      "outputs": []
    },
    {
      "cell_type": "code",
      "metadata": {
        "colab": {
          "base_uri": "https://localhost:8080/"
        },
        "id": "AS-CCgry3BGF",
        "outputId": "1321df78-c9fe-49bf-ffec-c59830ebaaf5"
      },
      "source": [
        "!gdown --id 1rOc4vnxBqaLQr8D9OxvmjnajChQra0-M"
      ],
      "execution_count": null,
      "outputs": [
        {
          "output_type": "stream",
          "text": [
            "Downloading...\n",
            "From: https://drive.google.com/uc?id=1rOc4vnxBqaLQr8D9OxvmjnajChQra0-M\n",
            "To: /content/train.csv\n",
            "29.1MB [00:00, 136MB/s]\n"
          ],
          "name": "stdout"
        }
      ]
    },
    {
      "cell_type": "code",
      "metadata": {
        "colab": {
          "base_uri": "https://localhost:8080/",
          "height": 295
        },
        "id": "B_M87ftRl6mA",
        "outputId": "2478c17b-fefe-421a-f5fb-4e6f3e6747f9"
      },
      "source": [
        "df = pd.read_csv('train.csv')\n",
        "df.sample(8)"
      ],
      "execution_count": null,
      "outputs": [
        {
          "output_type": "execute_result",
          "data": {
            "text/plain": [
              "        Class Index                                              Title  \\\n",
              "101153            4        New Year, New Scraps for Sun's Feisty Chief   \n",
              "7483              1             Blast in Turkish Resort City Kills One   \n",
              "29498             1         U.S. Alarmed Over Suspected Iran Nuke Site   \n",
              "85276             3      In Tussle With Murdoch, Malone Seeks Leverage   \n",
              "71563             3             BellSouth Profit Drops on Flat Revenue   \n",
              "58633             1  Car bomb explodes at Palestinian security HQ i...   \n",
              "108827            2  Westwood #39;s card marked but not wrecked by ...   \n",
              "9700              4                    Site Bars Black Box Voting Head   \n",
              "\n",
              "                                              Description  \n",
              "101153  Despite a recent antitrust settlement, Scott M...  \n",
              "7483     ISTANBUL (Reuters) - An explosion rocked Turk...  \n",
              "29498   VIENNA, Austria - A U.S. official expressed al...  \n",
              "85276   On the surface it is a simple stock purchase, ...  \n",
              "71563   The phone provider reported a 14.6 percent dro...  \n",
              "58633   GAZA CITY, Oct 12 (AFP) - A car bomb exploded ...  \n",
              "108827  A double-bogey six on the treacherous 17th hol...  \n",
              "9700    A politically progressive website at the foref...  "
            ],
            "text/html": [
              "<div>\n",
              "<style scoped>\n",
              "    .dataframe tbody tr th:only-of-type {\n",
              "        vertical-align: middle;\n",
              "    }\n",
              "\n",
              "    .dataframe tbody tr th {\n",
              "        vertical-align: top;\n",
              "    }\n",
              "\n",
              "    .dataframe thead th {\n",
              "        text-align: right;\n",
              "    }\n",
              "</style>\n",
              "<table border=\"1\" class=\"dataframe\">\n",
              "  <thead>\n",
              "    <tr style=\"text-align: right;\">\n",
              "      <th></th>\n",
              "      <th>Class Index</th>\n",
              "      <th>Title</th>\n",
              "      <th>Description</th>\n",
              "    </tr>\n",
              "  </thead>\n",
              "  <tbody>\n",
              "    <tr>\n",
              "      <th>101153</th>\n",
              "      <td>4</td>\n",
              "      <td>New Year, New Scraps for Sun's Feisty Chief</td>\n",
              "      <td>Despite a recent antitrust settlement, Scott M...</td>\n",
              "    </tr>\n",
              "    <tr>\n",
              "      <th>7483</th>\n",
              "      <td>1</td>\n",
              "      <td>Blast in Turkish Resort City Kills One</td>\n",
              "      <td>ISTANBUL (Reuters) - An explosion rocked Turk...</td>\n",
              "    </tr>\n",
              "    <tr>\n",
              "      <th>29498</th>\n",
              "      <td>1</td>\n",
              "      <td>U.S. Alarmed Over Suspected Iran Nuke Site</td>\n",
              "      <td>VIENNA, Austria - A U.S. official expressed al...</td>\n",
              "    </tr>\n",
              "    <tr>\n",
              "      <th>85276</th>\n",
              "      <td>3</td>\n",
              "      <td>In Tussle With Murdoch, Malone Seeks Leverage</td>\n",
              "      <td>On the surface it is a simple stock purchase, ...</td>\n",
              "    </tr>\n",
              "    <tr>\n",
              "      <th>71563</th>\n",
              "      <td>3</td>\n",
              "      <td>BellSouth Profit Drops on Flat Revenue</td>\n",
              "      <td>The phone provider reported a 14.6 percent dro...</td>\n",
              "    </tr>\n",
              "    <tr>\n",
              "      <th>58633</th>\n",
              "      <td>1</td>\n",
              "      <td>Car bomb explodes at Palestinian security HQ i...</td>\n",
              "      <td>GAZA CITY, Oct 12 (AFP) - A car bomb exploded ...</td>\n",
              "    </tr>\n",
              "    <tr>\n",
              "      <th>108827</th>\n",
              "      <td>2</td>\n",
              "      <td>Westwood #39;s card marked but not wrecked by ...</td>\n",
              "      <td>A double-bogey six on the treacherous 17th hol...</td>\n",
              "    </tr>\n",
              "    <tr>\n",
              "      <th>9700</th>\n",
              "      <td>4</td>\n",
              "      <td>Site Bars Black Box Voting Head</td>\n",
              "      <td>A politically progressive website at the foref...</td>\n",
              "    </tr>\n",
              "  </tbody>\n",
              "</table>\n",
              "</div>"
            ]
          },
          "metadata": {
            "tags": []
          },
          "execution_count": 293
        }
      ]
    },
    {
      "cell_type": "code",
      "metadata": {
        "id": "Lptgw_ZqNgGm"
      },
      "source": [
        "SIZE = 10000\n",
        "\n",
        "df_business = df.loc[lambda df: df['Class Index'] == 3]\n",
        "df_business = df_business.sample(SIZE)\n",
        "\n",
        "df_world = df.loc[lambda df: df['Class Index'] == 2]\n",
        "df_world = df_world.sample(SIZE)\n",
        "\n",
        "df_sport = df.loc[lambda df: df['Class Index'] == 1\t]\n",
        "df_sport = df_sport.sample(SIZE)\n",
        "\n",
        "df_tech = df.loc[lambda df: df['Class Index'] == 4\t]\n",
        "df_tech = df_tech.sample(SIZE)"
      ],
      "execution_count": null,
      "outputs": []
    },
    {
      "cell_type": "code",
      "metadata": {
        "id": "NyzXSHnDP9BN"
      },
      "source": [
        "df = pd.concat([df_business, df_world, df_sport, df_tech])"
      ],
      "execution_count": null,
      "outputs": []
    },
    {
      "cell_type": "code",
      "metadata": {
        "colab": {
          "base_uri": "https://localhost:8080/",
          "height": 417
        },
        "id": "i2vKh1lpQNRu",
        "outputId": "99e1ac1e-6b50-41aa-ebed-eead0103b576"
      },
      "source": [
        "df"
      ],
      "execution_count": null,
      "outputs": [
        {
          "output_type": "execute_result",
          "data": {
            "text/plain": [
              "        Class Index                                              Title  \\\n",
              "9559              3                 Soft Margins Cut Bombardier Profit   \n",
              "49202             3                           Wall Street opens higher   \n",
              "100723            3                          Unlocking Value at Altria   \n",
              "79651             3                Chrysler recalling 240,100 minivans   \n",
              "92685             3         Update 1: Motorola to Acquire MeshNetworks   \n",
              "...             ...                                                ...   \n",
              "49107             4           Gluecode delivers open source BPM engine   \n",
              "116223            4       Google Bets Big on Bringing Libraries to Web   \n",
              "93494             4  Vivendi reports sizzling third-quarter profits...   \n",
              "106721            4                     mm02 To Bring I-Mode to Europe   \n",
              "23733             4           Adult ADHD Costs Billions in Lost Income   \n",
              "\n",
              "                                              Description  \n",
              "9559     MONTREAL (Reuters) - Second-quarter profit fe...  \n",
              "49202   WALL Street opened higher today on the heels o...  \n",
              "100723  Plus, talking turkey with Hormel, a peek into ...  \n",
              "79651   DETROIT - Chrysler is recalling 240,000 miniva...  \n",
              "92685   Motorola Inc. is acquiring MeshNetworks Inc., ...  \n",
              "...                                                   ...  \n",
              "49107   Hoping to put in place the last missing piece ...  \n",
              "116223   SAN FRANCISCO (Reuters) - Google Inc. said on...  \n",
              "93494   AFP - Media and mobile telephone group Vivendi...  \n",
              "106721  mm02 UK and mm02 Ireland will use DoCoMo #39;s...  \n",
              "23733   While attention deficit-hyperactivity disorder...  \n",
              "\n",
              "[40000 rows x 3 columns]"
            ],
            "text/html": [
              "<div>\n",
              "<style scoped>\n",
              "    .dataframe tbody tr th:only-of-type {\n",
              "        vertical-align: middle;\n",
              "    }\n",
              "\n",
              "    .dataframe tbody tr th {\n",
              "        vertical-align: top;\n",
              "    }\n",
              "\n",
              "    .dataframe thead th {\n",
              "        text-align: right;\n",
              "    }\n",
              "</style>\n",
              "<table border=\"1\" class=\"dataframe\">\n",
              "  <thead>\n",
              "    <tr style=\"text-align: right;\">\n",
              "      <th></th>\n",
              "      <th>Class Index</th>\n",
              "      <th>Title</th>\n",
              "      <th>Description</th>\n",
              "    </tr>\n",
              "  </thead>\n",
              "  <tbody>\n",
              "    <tr>\n",
              "      <th>9559</th>\n",
              "      <td>3</td>\n",
              "      <td>Soft Margins Cut Bombardier Profit</td>\n",
              "      <td>MONTREAL (Reuters) - Second-quarter profit fe...</td>\n",
              "    </tr>\n",
              "    <tr>\n",
              "      <th>49202</th>\n",
              "      <td>3</td>\n",
              "      <td>Wall Street opens higher</td>\n",
              "      <td>WALL Street opened higher today on the heels o...</td>\n",
              "    </tr>\n",
              "    <tr>\n",
              "      <th>100723</th>\n",
              "      <td>3</td>\n",
              "      <td>Unlocking Value at Altria</td>\n",
              "      <td>Plus, talking turkey with Hormel, a peek into ...</td>\n",
              "    </tr>\n",
              "    <tr>\n",
              "      <th>79651</th>\n",
              "      <td>3</td>\n",
              "      <td>Chrysler recalling 240,100 minivans</td>\n",
              "      <td>DETROIT - Chrysler is recalling 240,000 miniva...</td>\n",
              "    </tr>\n",
              "    <tr>\n",
              "      <th>92685</th>\n",
              "      <td>3</td>\n",
              "      <td>Update 1: Motorola to Acquire MeshNetworks</td>\n",
              "      <td>Motorola Inc. is acquiring MeshNetworks Inc., ...</td>\n",
              "    </tr>\n",
              "    <tr>\n",
              "      <th>...</th>\n",
              "      <td>...</td>\n",
              "      <td>...</td>\n",
              "      <td>...</td>\n",
              "    </tr>\n",
              "    <tr>\n",
              "      <th>49107</th>\n",
              "      <td>4</td>\n",
              "      <td>Gluecode delivers open source BPM engine</td>\n",
              "      <td>Hoping to put in place the last missing piece ...</td>\n",
              "    </tr>\n",
              "    <tr>\n",
              "      <th>116223</th>\n",
              "      <td>4</td>\n",
              "      <td>Google Bets Big on Bringing Libraries to Web</td>\n",
              "      <td>SAN FRANCISCO (Reuters) - Google Inc. said on...</td>\n",
              "    </tr>\n",
              "    <tr>\n",
              "      <th>93494</th>\n",
              "      <td>4</td>\n",
              "      <td>Vivendi reports sizzling third-quarter profits...</td>\n",
              "      <td>AFP - Media and mobile telephone group Vivendi...</td>\n",
              "    </tr>\n",
              "    <tr>\n",
              "      <th>106721</th>\n",
              "      <td>4</td>\n",
              "      <td>mm02 To Bring I-Mode to Europe</td>\n",
              "      <td>mm02 UK and mm02 Ireland will use DoCoMo #39;s...</td>\n",
              "    </tr>\n",
              "    <tr>\n",
              "      <th>23733</th>\n",
              "      <td>4</td>\n",
              "      <td>Adult ADHD Costs Billions in Lost Income</td>\n",
              "      <td>While attention deficit-hyperactivity disorder...</td>\n",
              "    </tr>\n",
              "  </tbody>\n",
              "</table>\n",
              "<p>40000 rows × 3 columns</p>\n",
              "</div>"
            ]
          },
          "metadata": {
            "tags": []
          },
          "execution_count": 296
        }
      ]
    },
    {
      "cell_type": "code",
      "metadata": {
        "colab": {
          "base_uri": "https://localhost:8080/"
        },
        "id": "HC1kMBoKnt8q",
        "outputId": "ef46c80b-594e-4113-c2a7-23e9573985bd"
      },
      "source": [
        "df['Class Index'].value_counts()"
      ],
      "execution_count": null,
      "outputs": [
        {
          "output_type": "execute_result",
          "data": {
            "text/plain": [
              "4    10000\n",
              "3    10000\n",
              "2    10000\n",
              "1    10000\n",
              "Name: Class Index, dtype: int64"
            ]
          },
          "metadata": {
            "tags": []
          },
          "execution_count": 297
        }
      ]
    },
    {
      "cell_type": "code",
      "metadata": {
        "colab": {
          "base_uri": "https://localhost:8080/"
        },
        "id": "s4LpVDaB3pKd",
        "outputId": "172b569f-4a55-4b2a-b131-5a60f553c214"
      },
      "source": [
        "print(f'Jumlah Data : {len(df)}')"
      ],
      "execution_count": null,
      "outputs": [
        {
          "output_type": "stream",
          "text": [
            "Jumlah Data : 40000\n"
          ],
          "name": "stdout"
        }
      ]
    },
    {
      "cell_type": "markdown",
      "metadata": {
        "id": "USt2yr9b6W8D"
      },
      "source": [
        "## **Data Preprocessing**"
      ]
    },
    {
      "cell_type": "markdown",
      "metadata": {
        "id": "U0C5LF4ZB4e1"
      },
      "source": [
        "### **Transforming Data Classification**"
      ]
    },
    {
      "cell_type": "code",
      "metadata": {
        "colab": {
          "base_uri": "https://localhost:8080/"
        },
        "id": "Bp_EjjGuB9Zl",
        "outputId": "7a7fc7de-3b81-4623-f79e-f6e97509cfe3"
      },
      "source": [
        "def convert_class(x):\n",
        "    if x == 1:\n",
        "       classification = \"World\"\n",
        "    elif x == 2:\n",
        "       classification = \"Sport\"\n",
        "    elif x == 3:\n",
        "       classification = \"Business\" \n",
        "    else:\n",
        "       classification = \"Tech\"       \n",
        "\n",
        "    return classification\n",
        "\n",
        "df['Class Index'] = df['Class Index'].apply(convert_class)\n",
        "df['Class Index']"
      ],
      "execution_count": null,
      "outputs": [
        {
          "output_type": "execute_result",
          "data": {
            "text/plain": [
              "9559      Business\n",
              "49202     Business\n",
              "100723    Business\n",
              "79651     Business\n",
              "92685     Business\n",
              "            ...   \n",
              "49107         Tech\n",
              "116223        Tech\n",
              "93494         Tech\n",
              "106721        Tech\n",
              "23733         Tech\n",
              "Name: Class Index, Length: 40000, dtype: object"
            ]
          },
          "metadata": {
            "tags": []
          },
          "execution_count": 299
        }
      ]
    },
    {
      "cell_type": "markdown",
      "metadata": {
        "id": "Pzhg_NUEB2cd"
      },
      "source": [
        "### **One Hot Encoding**"
      ]
    },
    {
      "cell_type": "code",
      "metadata": {
        "colab": {
          "base_uri": "https://localhost:8080/",
          "height": 295
        },
        "id": "nozPziLsApSN",
        "outputId": "d61cabdb-493e-417b-ae15-8a7611245424"
      },
      "source": [
        "category = pd.get_dummies(df[\"Class Index\"])\n",
        "df = pd.concat([df, category], axis=1)\n",
        "df = df.drop(columns='Class Index')\n",
        "df = df.drop(columns='Title')\n",
        "df.sample(8)"
      ],
      "execution_count": null,
      "outputs": [
        {
          "output_type": "execute_result",
          "data": {
            "text/plain": [
              "                                             Description  Business  Sport  \\\n",
              "28353  Schalke 04 coach Jupp Heynckes became the firs...         0      1   \n",
              "90820  AMR Research estimates that companies will spe...         1      0   \n",
              "27855  Oil ministers are meeting to consider raising ...         1      0   \n",
              "37100  LG.Philips LCD Co. Ltd. today reported that ma...         0      0   \n",
              "39899   WASHINGTON (Reuters) - What the U.S. Federal ...         1      0   \n",
              "84421  AP - Yasser Arafat's wife accused his top lieu...         0      0   \n",
              "46878  SALT LAKE CITY - Police found what appeared to...         0      0   \n",
              "95290  Consumers get psyched for the release of Ninte...         0      0   \n",
              "\n",
              "       Tech  World  \n",
              "28353     0      0  \n",
              "90820     0      0  \n",
              "27855     0      0  \n",
              "37100     1      0  \n",
              "39899     0      0  \n",
              "84421     0      1  \n",
              "46878     0      1  \n",
              "95290     1      0  "
            ],
            "text/html": [
              "<div>\n",
              "<style scoped>\n",
              "    .dataframe tbody tr th:only-of-type {\n",
              "        vertical-align: middle;\n",
              "    }\n",
              "\n",
              "    .dataframe tbody tr th {\n",
              "        vertical-align: top;\n",
              "    }\n",
              "\n",
              "    .dataframe thead th {\n",
              "        text-align: right;\n",
              "    }\n",
              "</style>\n",
              "<table border=\"1\" class=\"dataframe\">\n",
              "  <thead>\n",
              "    <tr style=\"text-align: right;\">\n",
              "      <th></th>\n",
              "      <th>Description</th>\n",
              "      <th>Business</th>\n",
              "      <th>Sport</th>\n",
              "      <th>Tech</th>\n",
              "      <th>World</th>\n",
              "    </tr>\n",
              "  </thead>\n",
              "  <tbody>\n",
              "    <tr>\n",
              "      <th>28353</th>\n",
              "      <td>Schalke 04 coach Jupp Heynckes became the firs...</td>\n",
              "      <td>0</td>\n",
              "      <td>1</td>\n",
              "      <td>0</td>\n",
              "      <td>0</td>\n",
              "    </tr>\n",
              "    <tr>\n",
              "      <th>90820</th>\n",
              "      <td>AMR Research estimates that companies will spe...</td>\n",
              "      <td>1</td>\n",
              "      <td>0</td>\n",
              "      <td>0</td>\n",
              "      <td>0</td>\n",
              "    </tr>\n",
              "    <tr>\n",
              "      <th>27855</th>\n",
              "      <td>Oil ministers are meeting to consider raising ...</td>\n",
              "      <td>1</td>\n",
              "      <td>0</td>\n",
              "      <td>0</td>\n",
              "      <td>0</td>\n",
              "    </tr>\n",
              "    <tr>\n",
              "      <th>37100</th>\n",
              "      <td>LG.Philips LCD Co. Ltd. today reported that ma...</td>\n",
              "      <td>0</td>\n",
              "      <td>0</td>\n",
              "      <td>1</td>\n",
              "      <td>0</td>\n",
              "    </tr>\n",
              "    <tr>\n",
              "      <th>39899</th>\n",
              "      <td>WASHINGTON (Reuters) - What the U.S. Federal ...</td>\n",
              "      <td>1</td>\n",
              "      <td>0</td>\n",
              "      <td>0</td>\n",
              "      <td>0</td>\n",
              "    </tr>\n",
              "    <tr>\n",
              "      <th>84421</th>\n",
              "      <td>AP - Yasser Arafat's wife accused his top lieu...</td>\n",
              "      <td>0</td>\n",
              "      <td>0</td>\n",
              "      <td>0</td>\n",
              "      <td>1</td>\n",
              "    </tr>\n",
              "    <tr>\n",
              "      <th>46878</th>\n",
              "      <td>SALT LAKE CITY - Police found what appeared to...</td>\n",
              "      <td>0</td>\n",
              "      <td>0</td>\n",
              "      <td>0</td>\n",
              "      <td>1</td>\n",
              "    </tr>\n",
              "    <tr>\n",
              "      <th>95290</th>\n",
              "      <td>Consumers get psyched for the release of Ninte...</td>\n",
              "      <td>0</td>\n",
              "      <td>0</td>\n",
              "      <td>1</td>\n",
              "      <td>0</td>\n",
              "    </tr>\n",
              "  </tbody>\n",
              "</table>\n",
              "</div>"
            ]
          },
          "metadata": {
            "tags": []
          },
          "execution_count": 300
        }
      ]
    },
    {
      "cell_type": "markdown",
      "metadata": {
        "id": "74Cu9bzk6awb"
      },
      "source": [
        "### **Cleaning Data**"
      ]
    },
    {
      "cell_type": "code",
      "metadata": {
        "colab": {
          "base_uri": "https://localhost:8080/"
        },
        "id": "Tfc8-vRO5Nz1",
        "outputId": "65ba1d0c-8f81-46f9-e71c-2efad8d3371b"
      },
      "source": [
        "def preprocessing_data(x):\n",
        "    return p.clean(x)\n",
        "    \n",
        "df['Description'] = df['Description'].apply(preprocessing_data)\n",
        "df['Description']"
      ],
      "execution_count": null,
      "outputs": [
        {
          "output_type": "execute_result",
          "data": {
            "text/plain": [
              "9559      MONTREAL (Reuters) - Second-quarter profit fel...\n",
              "49202     WALL Street opened higher today on the heels o...\n",
              "100723    Plus, talking turkey with Hormel, a peek into ...\n",
              "79651     DETROIT - Chrysler is recalling minivans becau...\n",
              "92685     Motorola Inc. is acquiring MeshNetworks Inc., ...\n",
              "                                ...                        \n",
              "49107     Hoping to put in place the last missing piece ...\n",
              "116223    SAN FRANCISCO (Reuters) - Google Inc. said on ...\n",
              "93494     AFP - Media and mobile telephone group Vivendi...\n",
              "106721    mm02 UK and mm02 Ireland will use DoCoMo i-mod...\n",
              "23733     While attention deficit-hyperactivity disorder...\n",
              "Name: Description, Length: 40000, dtype: object"
            ]
          },
          "metadata": {
            "tags": []
          },
          "execution_count": 301
        }
      ]
    },
    {
      "cell_type": "markdown",
      "metadata": {
        "id": "PH0Prd7F6k1V"
      },
      "source": [
        "### **Stemming Data**"
      ]
    },
    {
      "cell_type": "code",
      "metadata": {
        "colab": {
          "base_uri": "https://localhost:8080/"
        },
        "id": "aQ1g90c96N6O",
        "outputId": "93be3219-e539-483a-d18f-ea0ce8161e01"
      },
      "source": [
        "ps = PorterStemmer() \n",
        "\n",
        "def stemming_data(x):\n",
        "    return ps.stem(x)\n",
        "\n",
        "df['Description'] = df['Description'].apply(stemming_data)\n",
        "df['Description']"
      ],
      "execution_count": null,
      "outputs": [
        {
          "output_type": "execute_result",
          "data": {
            "text/plain": [
              "9559      montreal (reuters) - second-quarter profit fel...\n",
              "49202     wall street opened higher today on the heels o...\n",
              "100723    plus, talking turkey with hormel, a peek into ...\n",
              "79651     detroit - chrysler is recalling minivans becau...\n",
              "92685     motorola inc. is acquiring meshnetworks inc., ...\n",
              "                                ...                        \n",
              "49107     hoping to put in place the last missing piece ...\n",
              "116223    san francisco (reuters) - google inc. said on ...\n",
              "93494     afp - media and mobile telephone group vivendi...\n",
              "106721    mm02 uk and mm02 ireland will use docomo i-mod...\n",
              "23733     while attention deficit-hyperactivity disorder...\n",
              "Name: Description, Length: 40000, dtype: object"
            ]
          },
          "metadata": {
            "tags": []
          },
          "execution_count": 302
        }
      ]
    },
    {
      "cell_type": "markdown",
      "metadata": {
        "id": "dxS_Uo4_8eX9"
      },
      "source": [
        "### **Split Training And Validation Data**"
      ]
    },
    {
      "cell_type": "code",
      "metadata": {
        "colab": {
          "base_uri": "https://localhost:8080/"
        },
        "id": "PZK1NBCz8d3k",
        "outputId": "e9ef702b-40ae-4cef-f144-138ffc1038f4"
      },
      "source": [
        "description = df['Description'].values\n",
        "labels = df[['Business', 'Sport', 'Tech', 'World']]\n",
        "\n",
        "x_train, x_test, y_train, y_test = train_test_split(description, labels, test_size=0.2, random_state=42)\n",
        "\n",
        "print(f'x_train shape: {x_train.shape}')\n",
        "print(f'x_test shape: {x_test.shape}')\n",
        "print('---------------------------------')\n",
        "print(f'y_train shape: {y_train.shape}')\n",
        "print(f'y_test shape: {y_test.shape}')\n",
        "print('---------------------------------\\n')\n",
        "print(y_train.value_counts(), end=\"\\n\\n\")\n",
        "print(y_test.value_counts())"
      ],
      "execution_count": null,
      "outputs": [
        {
          "output_type": "stream",
          "text": [
            "x_train shape: (32000,)\n",
            "x_test shape: (8000,)\n",
            "---------------------------------\n",
            "y_train shape: (32000, 4)\n",
            "y_test shape: (8000, 4)\n",
            "---------------------------------\n",
            "\n",
            "Business  Sport  Tech  World\n",
            "0         1      0     0        8033\n",
            "          0      0     1        8014\n",
            "                 1     0        8000\n",
            "1         0      0     0        7953\n",
            "dtype: int64\n",
            "\n",
            "Business  Sport  Tech  World\n",
            "1         0      0     0        2047\n",
            "0         0      1     0        2000\n",
            "                 0     1        1986\n",
            "          1      0     0        1967\n",
            "dtype: int64\n"
          ],
          "name": "stdout"
        }
      ]
    },
    {
      "cell_type": "markdown",
      "metadata": {
        "id": "fGJl9cwD6wH1"
      },
      "source": [
        "### **Tokenizing**"
      ]
    },
    {
      "cell_type": "code",
      "metadata": {
        "id": "D6A3R2utoCvQ"
      },
      "source": [
        "tokenizer = Tokenizer(num_words=20000, oov_token='OOV')\n",
        "tokenizer.fit_on_texts(x_train) \n",
        "tokenizer.fit_on_texts(x_test)\n",
        "\n",
        "seq_train = tokenizer.texts_to_sequences(x_train)\n",
        "seq_test = tokenizer.texts_to_sequences(x_test)\n",
        " \n",
        "pad_train = pad_sequences(seq_train) \n",
        "pad_test = pad_sequences(seq_test)"
      ],
      "execution_count": null,
      "outputs": []
    },
    {
      "cell_type": "markdown",
      "metadata": {
        "id": "wwy9gg7L7n-9"
      },
      "source": [
        "### **Embedding**"
      ]
    },
    {
      "cell_type": "code",
      "metadata": {
        "colab": {
          "base_uri": "https://localhost:8080/"
        },
        "id": "zx5RsTpL7AdA",
        "outputId": "a06fbf66-dcdd-430a-ab27-dd3a1a1cea3b"
      },
      "source": [
        "model = tf.keras.Sequential([\n",
        "    tf.keras.layers.Embedding(input_dim=20000, output_dim=32),\n",
        "    tf.keras.layers.LSTM(64),\n",
        "    tf.keras.layers.Dense(128, activation='relu'),\n",
        "    tf.keras.layers.Dense(64, activation='relu'),\n",
        "    tf.keras.layers.Dense(4, activation='softmax')\n",
        "])\n",
        "\n",
        "model.compile(loss='categorical_crossentropy', optimizer='adam', metrics=['accuracy'])\n",
        "model.summary()"
      ],
      "execution_count": null,
      "outputs": [
        {
          "output_type": "stream",
          "text": [
            "Model: \"sequential_19\"\n",
            "_________________________________________________________________\n",
            "Layer (type)                 Output Shape              Param #   \n",
            "=================================================================\n",
            "embedding_19 (Embedding)     (None, None, 32)          640000    \n",
            "_________________________________________________________________\n",
            "lstm_19 (LSTM)               (None, 64)                24832     \n",
            "_________________________________________________________________\n",
            "dense_57 (Dense)             (None, 128)               8320      \n",
            "_________________________________________________________________\n",
            "dense_58 (Dense)             (None, 64)                8256      \n",
            "_________________________________________________________________\n",
            "dense_59 (Dense)             (None, 4)                 260       \n",
            "=================================================================\n",
            "Total params: 681,668\n",
            "Trainable params: 681,668\n",
            "Non-trainable params: 0\n",
            "_________________________________________________________________\n"
          ],
          "name": "stdout"
        }
      ]
    },
    {
      "cell_type": "code",
      "metadata": {
        "id": "MoDzX7WsciuW"
      },
      "source": [
        "early_stopping = EarlyStopping(\n",
        "    restore_best_weights=True,\n",
        "    patience=5, \n",
        "    min_delta=0.01, \n",
        "    monitor='val_loss'\n",
        ")"
      ],
      "execution_count": null,
      "outputs": []
    },
    {
      "cell_type": "code",
      "metadata": {
        "colab": {
          "base_uri": "https://localhost:8080/"
        },
        "id": "CCngdvaE7uik",
        "outputId": "a98b562f-4a45-449c-bd8b-5418102d71b8"
      },
      "source": [
        "history = model.fit(\n",
        "    pad_train, y_train, \n",
        "    epochs=20, \n",
        "    validation_data=(pad_test, y_test),\n",
        "    verbose=2,\n",
        "    callbacks=[early_stopping]\n",
        ")"
      ],
      "execution_count": null,
      "outputs": [
        {
          "output_type": "stream",
          "text": [
            "Epoch 1/20\n",
            "1000/1000 - 75s - loss: 0.5544 - accuracy: 0.7753 - val_loss: 0.3686 - val_accuracy: 0.8759\n",
            "Epoch 2/20\n",
            "1000/1000 - 75s - loss: 0.2506 - accuracy: 0.9185 - val_loss: 0.3726 - val_accuracy: 0.8794\n",
            "Epoch 3/20\n",
            "1000/1000 - 70s - loss: 0.1609 - accuracy: 0.9495 - val_loss: 0.4032 - val_accuracy: 0.8774\n",
            "Epoch 4/20\n",
            "1000/1000 - 69s - loss: 0.1079 - accuracy: 0.9658 - val_loss: 0.5039 - val_accuracy: 0.8726\n",
            "Epoch 5/20\n",
            "1000/1000 - 67s - loss: 0.0681 - accuracy: 0.9784 - val_loss: 0.5928 - val_accuracy: 0.8651\n",
            "Epoch 6/20\n",
            "1000/1000 - 66s - loss: 0.0471 - accuracy: 0.9837 - val_loss: 0.6853 - val_accuracy: 0.8670\n"
          ],
          "name": "stdout"
        }
      ]
    },
    {
      "cell_type": "markdown",
      "metadata": {
        "id": "BVOQhcxLWy-m"
      },
      "source": [
        "## **Result**"
      ]
    },
    {
      "cell_type": "code",
      "metadata": {
        "colab": {
          "base_uri": "https://localhost:8080/",
          "height": 655
        },
        "id": "zWhk0ScVS0X-",
        "outputId": "c5c67514-3892-4a94-e33c-e8fd470adec0"
      },
      "source": [
        "acc = history.history['accuracy']\n",
        "val_acc = history.history['val_accuracy']\n",
        "\n",
        "loss = history.history['loss']\n",
        "val_loss = history.history['val_loss']\n",
        "\n",
        "epochs = history.epoch\n",
        "\n",
        "plt.figure(figsize=(8, 5))\n",
        "plt.plot(epochs, acc, label='Akurasi Train')\n",
        "plt.plot(epochs, val_acc, label='Akurasi Validation')\n",
        "plt.title('Akurasi Train dan Validation')\n",
        "plt.legend()\n",
        "plt.show()\n",
        "\n",
        "plt.figure(figsize=(8, 5))\n",
        "plt.plot(epochs, loss, label='Train Loss')\n",
        "plt.plot(epochs, val_loss, label='Validation Loss')\n",
        "plt.title('Loss Train dan Validation')\n",
        "plt.yticks(np.arange(min(loss), max(val_loss)+0.1, 0.1))\n",
        "plt.legend()\n",
        "plt.show()"
      ],
      "execution_count": null,
      "outputs": [
        {
          "output_type": "display_data",
          "data": {
            "text/plain": [
              "<Figure size 576x360 with 1 Axes>"
            ],
            "image/png": "[encoded data removed]"
          },
          "metadata": {
            "tags": [],
            "needs_background": "light"
          }
        },
        {
          "output_type": "display_data",
          "data": {
            "text/plain": [
              "<Figure size 576x360 with 1 Axes>"
            ],
            "image/png": "[encoded data removed]"
          },
          "metadata": {
            "tags": [],
            "needs_background": "light"
          }
        }
      ]
    },
    {
      "cell_type": "code",
      "metadata": {
        "colab": {
          "base_uri": "https://localhost:8080/"
        },
        "id": "fHWWE5kqVIsW",
        "outputId": "c6431348-293f-4200-ffbd-250f358e52b9"
      },
      "source": [
        "print(f'Akurasi Maksimum : {max(acc)}')\n",
        "print(f'Validasi Maksimum : {max(val_acc)}')"
      ],
      "execution_count": null,
      "outputs": [
        {
          "output_type": "stream",
          "text": [
            "Akurasi Maksimum : 0.983718752861023\n",
            "Validasi Maksimum : 0.8793749809265137\n"
          ],
          "name": "stdout"
        }
      ]
    }
  ]
}